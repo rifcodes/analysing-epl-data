{
 "cells": [
  {
   "cell_type": "code",
   "execution_count": 2,
   "id": "9bafe78d-0288-4990-9baf-8b3338c911b2",
   "metadata": {
    "tags": []
   },
   "outputs": [],
   "source": [
    "import pandas as pd\n",
    "import matplotlib.pyplot as plt"
   ]
  },
  {
   "cell_type": "code",
   "execution_count": 3,
   "id": "2f219790-aa90-416f-97f7-d03868520823",
   "metadata": {
    "tags": []
   },
   "outputs": [],
   "source": [
    "epl = pd.read_csv('/Users/ariff/Downloads/archive/results.csv', encoding = 'unicode_escape')"
   ]
  },
  {
   "cell_type": "code",
   "execution_count": 4,
   "id": "ff14579b-66b2-43ce-a925-a6eec7adddec",
   "metadata": {
    "tags": []
   },
   "outputs": [],
   "source": [
    "# replace NaN with 0\n",
    "epl=epl.fillna(0)"
   ]
  },
  {
   "cell_type": "code",
   "execution_count": 5,
   "id": "24d99684-2be6-4b60-981c-7568d7769922",
   "metadata": {
    "tags": []
   },
   "outputs": [
    {
     "data": {
      "text/html": [
       "<div>\n",
       "<style scoped>\n",
       "    .dataframe tbody tr th:only-of-type {\n",
       "        vertical-align: middle;\n",
       "    }\n",
       "\n",
       "    .dataframe tbody tr th {\n",
       "        vertical-align: top;\n",
       "    }\n",
       "\n",
       "    .dataframe thead th {\n",
       "        text-align: right;\n",
       "    }\n",
       "</style>\n",
       "<table border=\"1\" class=\"dataframe\">\n",
       "  <thead>\n",
       "    <tr style=\"text-align: right;\">\n",
       "      <th></th>\n",
       "      <th>Season</th>\n",
       "      <th>DateTime</th>\n",
       "      <th>HomeTeam</th>\n",
       "      <th>AwayTeam</th>\n",
       "      <th>FTHG</th>\n",
       "      <th>FTAG</th>\n",
       "      <th>FTR</th>\n",
       "      <th>HTHG</th>\n",
       "      <th>HTAG</th>\n",
       "      <th>HTR</th>\n",
       "      <th>...</th>\n",
       "      <th>HST</th>\n",
       "      <th>AST</th>\n",
       "      <th>HC</th>\n",
       "      <th>AC</th>\n",
       "      <th>HF</th>\n",
       "      <th>AF</th>\n",
       "      <th>HY</th>\n",
       "      <th>AY</th>\n",
       "      <th>HR</th>\n",
       "      <th>AR</th>\n",
       "    </tr>\n",
       "  </thead>\n",
       "  <tbody>\n",
       "    <tr>\n",
       "      <th>11108</th>\n",
       "      <td>2021-22</td>\n",
       "      <td>2022-04-09T17:30:00Z</td>\n",
       "      <td>Aston Villa</td>\n",
       "      <td>Tottenham</td>\n",
       "      <td>0</td>\n",
       "      <td>4</td>\n",
       "      <td>A</td>\n",
       "      <td>0.0</td>\n",
       "      <td>1.0</td>\n",
       "      <td>A</td>\n",
       "      <td>...</td>\n",
       "      <td>8.0</td>\n",
       "      <td>5.0</td>\n",
       "      <td>9.0</td>\n",
       "      <td>3.0</td>\n",
       "      <td>12.0</td>\n",
       "      <td>14.0</td>\n",
       "      <td>2.0</td>\n",
       "      <td>3.0</td>\n",
       "      <td>0.0</td>\n",
       "      <td>0.0</td>\n",
       "    </tr>\n",
       "    <tr>\n",
       "      <th>11109</th>\n",
       "      <td>2021-22</td>\n",
       "      <td>2022-04-10T14:00:00Z</td>\n",
       "      <td>Brentford</td>\n",
       "      <td>West Ham</td>\n",
       "      <td>2</td>\n",
       "      <td>0</td>\n",
       "      <td>H</td>\n",
       "      <td>0.0</td>\n",
       "      <td>0.0</td>\n",
       "      <td>D</td>\n",
       "      <td>...</td>\n",
       "      <td>7.0</td>\n",
       "      <td>1.0</td>\n",
       "      <td>4.0</td>\n",
       "      <td>6.0</td>\n",
       "      <td>2.0</td>\n",
       "      <td>6.0</td>\n",
       "      <td>0.0</td>\n",
       "      <td>1.0</td>\n",
       "      <td>0.0</td>\n",
       "      <td>0.0</td>\n",
       "    </tr>\n",
       "    <tr>\n",
       "      <th>11110</th>\n",
       "      <td>2021-22</td>\n",
       "      <td>2022-04-10T14:00:00Z</td>\n",
       "      <td>Leicester</td>\n",
       "      <td>Crystal Palace</td>\n",
       "      <td>2</td>\n",
       "      <td>1</td>\n",
       "      <td>H</td>\n",
       "      <td>2.0</td>\n",
       "      <td>0.0</td>\n",
       "      <td>H</td>\n",
       "      <td>...</td>\n",
       "      <td>3.0</td>\n",
       "      <td>3.0</td>\n",
       "      <td>3.0</td>\n",
       "      <td>4.0</td>\n",
       "      <td>11.0</td>\n",
       "      <td>12.0</td>\n",
       "      <td>1.0</td>\n",
       "      <td>1.0</td>\n",
       "      <td>0.0</td>\n",
       "      <td>0.0</td>\n",
       "    </tr>\n",
       "    <tr>\n",
       "      <th>11111</th>\n",
       "      <td>2021-22</td>\n",
       "      <td>2022-04-10T14:00:00Z</td>\n",
       "      <td>Norwich</td>\n",
       "      <td>Burnley</td>\n",
       "      <td>2</td>\n",
       "      <td>0</td>\n",
       "      <td>H</td>\n",
       "      <td>1.0</td>\n",
       "      <td>0.0</td>\n",
       "      <td>H</td>\n",
       "      <td>...</td>\n",
       "      <td>6.0</td>\n",
       "      <td>4.0</td>\n",
       "      <td>6.0</td>\n",
       "      <td>7.0</td>\n",
       "      <td>12.0</td>\n",
       "      <td>10.0</td>\n",
       "      <td>1.0</td>\n",
       "      <td>1.0</td>\n",
       "      <td>0.0</td>\n",
       "      <td>0.0</td>\n",
       "    </tr>\n",
       "    <tr>\n",
       "      <th>11112</th>\n",
       "      <td>2021-22</td>\n",
       "      <td>2022-04-10T16:30:00Z</td>\n",
       "      <td>Man City</td>\n",
       "      <td>Liverpool</td>\n",
       "      <td>2</td>\n",
       "      <td>2</td>\n",
       "      <td>D</td>\n",
       "      <td>2.0</td>\n",
       "      <td>1.0</td>\n",
       "      <td>H</td>\n",
       "      <td>...</td>\n",
       "      <td>5.0</td>\n",
       "      <td>4.0</td>\n",
       "      <td>4.0</td>\n",
       "      <td>1.0</td>\n",
       "      <td>9.0</td>\n",
       "      <td>11.0</td>\n",
       "      <td>1.0</td>\n",
       "      <td>4.0</td>\n",
       "      <td>0.0</td>\n",
       "      <td>0.0</td>\n",
       "    </tr>\n",
       "  </tbody>\n",
       "</table>\n",
       "<p>5 rows × 23 columns</p>\n",
       "</div>"
      ],
      "text/plain": [
       "        Season              DateTime     HomeTeam        AwayTeam  FTHG  FTAG  \\\n",
       "11108  2021-22  2022-04-09T17:30:00Z  Aston Villa       Tottenham     0     4   \n",
       "11109  2021-22  2022-04-10T14:00:00Z    Brentford        West Ham     2     0   \n",
       "11110  2021-22  2022-04-10T14:00:00Z    Leicester  Crystal Palace     2     1   \n",
       "11111  2021-22  2022-04-10T14:00:00Z      Norwich         Burnley     2     0   \n",
       "11112  2021-22  2022-04-10T16:30:00Z     Man City       Liverpool     2     2   \n",
       "\n",
       "      FTR  HTHG  HTAG HTR  ...  HST  AST   HC   AC    HF    AF   HY   AY   HR  \\\n",
       "11108   A   0.0   1.0   A  ...  8.0  5.0  9.0  3.0  12.0  14.0  2.0  3.0  0.0   \n",
       "11109   H   0.0   0.0   D  ...  7.0  1.0  4.0  6.0   2.0   6.0  0.0  1.0  0.0   \n",
       "11110   H   2.0   0.0   H  ...  3.0  3.0  3.0  4.0  11.0  12.0  1.0  1.0  0.0   \n",
       "11111   H   1.0   0.0   H  ...  6.0  4.0  6.0  7.0  12.0  10.0  1.0  1.0  0.0   \n",
       "11112   D   2.0   1.0   H  ...  5.0  4.0  4.0  1.0   9.0  11.0  1.0  4.0  0.0   \n",
       "\n",
       "        AR  \n",
       "11108  0.0  \n",
       "11109  0.0  \n",
       "11110  0.0  \n",
       "11111  0.0  \n",
       "11112  0.0  \n",
       "\n",
       "[5 rows x 23 columns]"
      ]
     },
     "execution_count": 5,
     "metadata": {},
     "output_type": "execute_result"
    }
   ],
   "source": [
    "# check the last 5 rows of the dataset\n",
    "epl.tail(5)"
   ]
  },
  {
   "cell_type": "code",
   "execution_count": 6,
   "id": "183cc6d5-3573-4af6-8f23-11fde5d90685",
   "metadata": {
    "tags": []
   },
   "outputs": [
    {
     "data": {
      "text/plain": [
       "(11113, 23)"
      ]
     },
     "execution_count": 6,
     "metadata": {},
     "output_type": "execute_result"
    }
   ],
   "source": [
    "# identify number of rows & columns\n",
    "epl.shape"
   ]
  },
  {
   "cell_type": "code",
   "execution_count": 7,
   "id": "dfe29338-a78d-490f-a22b-244fd00954c5",
   "metadata": {
    "tags": []
   },
   "outputs": [
    {
     "name": "stdout",
     "output_type": "stream",
     "text": [
      "\n",
      "Column Names:\n",
      "['Season', 'DateTime', 'HomeTeam', 'AwayTeam', 'FTHG', 'FTAG', 'FTR', 'HTHG', 'HTAG', 'HTR', 'Referee', 'HS', 'AS', 'HST', 'AST', 'HC', 'AC', 'HF', 'AF', 'HY', 'AY', 'HR', 'AR']\n",
      "\n",
      "Missing Values:\n",
      "Season      0\n",
      "DateTime    0\n",
      "HomeTeam    0\n",
      "AwayTeam    0\n",
      "FTHG        0\n",
      "FTAG        0\n",
      "FTR         0\n",
      "HTHG        0\n",
      "HTAG        0\n",
      "HTR         0\n",
      "Referee     0\n",
      "HS          0\n",
      "AS          0\n",
      "HST         0\n",
      "AST         0\n",
      "HC          0\n",
      "AC          0\n",
      "HF          0\n",
      "AF          0\n",
      "HY          0\n",
      "AY          0\n",
      "HR          0\n",
      "AR          0\n",
      "dtype: int64\n",
      "\n",
      "Available Seasons: 29\n",
      "1993-94, 1994-95, 1995-96, 1996-97, 1997-98, 1998-99, 1999-00, 2000-01, 2001-02, 2002-03, 2003-04, 2004-05, 2005-06, 2006-07, 2007-08, 2008-09, 2009-10, 2010-11, 2011-12, 2012-13, 2013-14, 2014-15, 2015-16, 2016-17, 2017-18, 2018-19, 2019-20, 2020-21, 2021-22\n",
      "\n",
      "Number of Unique Home Teams: 50\n",
      "Arsenal, Aston Villa, Barnsley, Birmingham, Blackburn, Blackpool, Bolton, Bournemouth, Bradford, Brentford, Brighton, Burnley, Cardiff, Charlton, Chelsea, Coventry, Crystal Palace, Derby, Everton, Fulham, Huddersfield, Hull, Ipswich, Leeds, Leicester, Liverpool, Man City, Man United, Middlesbrough, Newcastle, Norwich, Nott'm Forest, Oldham, Portsmouth, QPR, Reading, Sheffield United, Sheffield Weds, Southampton, Stoke, Sunderland, Swansea, Swindon, Tottenham, Watford, West Brom, West Ham, Wigan, Wimbledon, Wolves\n",
      "\n",
      "Statistical analysis on selected columns:\n",
      "               FTHG          FTAG            HS           AS            HF  \\\n",
      "count  11113.000000  11113.000000  11113.000000  11113.00000  11113.000000   \n",
      "mean       1.518222      1.141456     10.072348      7.93962      8.487447   \n",
      "std        1.301981      1.135907      7.429170      6.09462      5.935462   \n",
      "min        0.000000      0.000000      0.000000      0.00000      0.000000   \n",
      "25%        1.000000      0.000000      0.000000      0.00000      0.000000   \n",
      "50%        1.000000      1.000000     11.000000      8.00000     10.000000   \n",
      "75%        2.000000      2.000000     15.000000     12.00000     13.000000   \n",
      "max        9.000000      9.000000     43.000000     30.00000     33.000000   \n",
      "\n",
      "                 AF  \n",
      "count  11113.000000  \n",
      "mean       8.856204  \n",
      "std        6.197161  \n",
      "min        0.000000  \n",
      "25%        0.000000  \n",
      "50%       10.000000  \n",
      "75%       13.000000  \n",
      "max       29.000000  \n",
      "\n",
      "Maximum values of selected columns:\n",
      "FTHG     9.0\n",
      "FTAG     9.0\n",
      "HS      43.0\n",
      "AS      30.0\n",
      "HF      33.0\n",
      "AF      29.0\n",
      "dtype: float64\n",
      "\n",
      "Minimum values of selected columns:\n",
      "FTHG    0.0\n",
      "FTAG    0.0\n",
      "HS      0.0\n",
      "AS      0.0\n",
      "HF      0.0\n",
      "AF      0.0\n",
      "dtype: float64\n",
      "\n",
      "Value counts for Full-Time Result:\n",
      "FTR\n",
      "H    5088\n",
      "A    3161\n",
      "D    2864\n",
      "Name: count, dtype: int64\n"
     ]
    }
   ],
   "source": [
    "# get the list of column names\n",
    "print(\"\\nColumn Names:\")\n",
    "print(list(epl.columns))\n",
    "\n",
    "# check for missing values\n",
    "print(\"\\nMissing Values:\")\n",
    "print(epl.isnull().sum())\n",
    "\n",
    "# check unique values in a column (e.g., 'Season')\n",
    "print(f\"\\nAvailable Seasons: {epl['Season'].nunique()}\")\n",
    "epl_seasons = epl['Season'].unique()\n",
    "print(f\"{', '.join(epl_seasons)}\")\n",
    "\n",
    "\n",
    "# count unique values in a column (e.g., 'HomeTeam')\n",
    "print(f\"\\nNumber of Unique Home Teams: {epl['HomeTeam'].nunique()}\")\n",
    "epl_teams = sorted(epl['HomeTeam'].unique())\n",
    "print(f\"{', '.join(epl_teams)}\")\n",
    "\n",
    "# perform statistical analysis on selected columns\n",
    "print(\"\\nStatistical analysis on selected columns:\")\n",
    "selected_columns = ['FTHG', 'FTAG', 'HS', 'AS', 'HF', 'AF']\n",
    "print(epl[selected_columns].describe())\n",
    "\n",
    "# get the maximum and minimum values of selected columns\n",
    "print(\"\\nMaximum values of selected columns:\")\n",
    "print(epl[selected_columns].max())\n",
    "\n",
    "print(\"\\nMinimum values of selected columns:\")\n",
    "print(epl[selected_columns].min())\n",
    "\n",
    "# get value counts for the 'FTR' (Full-Time Result) column\n",
    "print(\"\\nValue counts for Full-Time Result:\")\n",
    "print(epl['FTR'].value_counts())\n"
   ]
  },
  {
   "cell_type": "code",
   "execution_count": 8,
   "id": "2c303e74-a958-41fe-b1e1-19ed562c84fd",
   "metadata": {
    "tags": []
   },
   "outputs": [
    {
     "name": "stdin",
     "output_type": "stream",
     "text": [
      "Enter a season (e.g., '1993-94') to get season statistics (or type 'exit' to quit):  2018-19\n"
     ]
    },
    {
     "name": "stdout",
     "output_type": "stream",
     "text": [
      "Season: 2018-19 \n",
      "Total Goals Scored: 1072 \n",
      "Average Goals Per Match: 2.82 \n",
      "Top Scoring Team: Man City with 95 goals \n",
      "Least Scoring Team: Huddersfield with 22 goals\n"
     ]
    },
    {
     "name": "stdin",
     "output_type": "stream",
     "text": [
      "Enter a season (e.g., '1993-94') to get season statistics (or type 'exit' to quit):  a\n"
     ]
    },
    {
     "name": "stdout",
     "output_type": "stream",
     "text": [
      "Season 'a' not found in the dataset. Please try again.\n",
      "Here are the available seasons: 1993-94, 1994-95, 1995-96, 1996-97, 1997-98, 1998-99, 1999-00, 2000-01, 2001-02, 2002-03, 2003-04, 2004-05, 2005-06, 2006-07, 2007-08, 2008-09, 2009-10, 2010-11, 2011-12, 2012-13, 2013-14, 2014-15, 2015-16, 2016-17, 2017-18, 2018-19, 2019-20, 2020-21, 2021-22\n"
     ]
    },
    {
     "name": "stdin",
     "output_type": "stream",
     "text": [
      "Enter a season (e.g., '1993-94') to get season statistics (or type 'exit' to quit):  exit\n"
     ]
    }
   ],
   "source": [
    "# create a dictionary to store statistics for each season, including top and lowest scorer\n",
    "season_stats = {}\n",
    "\n",
    "# function to calculate statistics for a season\n",
    "def calculate_season_stats(data, season):\n",
    "    season_data = data[data['Season'] == season]\n",
    "    total_goals = season_data['FTHG'].sum() + season_data['FTAG'].sum()\n",
    "    avg_goals_per_match = total_goals / len(season_data)\n",
    "    \n",
    "    # find the top scorer for the season\n",
    "    goal_counts = season_data.groupby('HomeTeam')['FTHG'].sum() + season_data.groupby('AwayTeam')['FTAG'].sum()\n",
    "    top_scorer_team = goal_counts.idxmax()\n",
    "    top_scorer_goals = goal_counts.max()\n",
    "    \n",
    "    # find the lowest scorer for the season\n",
    "    lowest_scorer_team = goal_counts.idxmin()\n",
    "    lowest_scorer_goals = goal_counts.min()\n",
    "    \n",
    "    return {\n",
    "        'TotalGoals': total_goals,\n",
    "        'AvgGoalsPerMatch': avg_goals_per_match,\n",
    "        'TopScorer': {\n",
    "            'Team': top_scorer_team,\n",
    "            'Goals': top_scorer_goals\n",
    "        },\n",
    "        'LowestScorer': {\n",
    "            'Team': lowest_scorer_team,\n",
    "            'Goals': lowest_scorer_goals\n",
    "        }\n",
    "    }\n",
    "\n",
    "# populate the season_stats dictionary\n",
    "for season in epl['Season'].unique():\n",
    "    season_stats[season] = calculate_season_stats(epl, season)\n",
    "\n",
    "# ask the user for a season and display season statistics, including top and lowest scorer\n",
    "while True:\n",
    "    user_input = input(\"Enter a season (e.g., '1993-94') to get season statistics (or type 'exit' to quit): \")\n",
    "    \n",
    "    if user_input.lower() == 'exit':\n",
    "        break\n",
    "    \n",
    "    try:\n",
    "        stats = season_stats[user_input]\n",
    "        print(f\"Season: {user_input} \\nTotal Goals Scored: {stats['TotalGoals']} \\nAverage Goals Per Match: {stats['AvgGoalsPerMatch']:.2f} \\nTop Scoring Team: {stats['TopScorer']['Team']} with {stats['TopScorer']['Goals']} goals \\nLeast Scoring Team: {stats['LowestScorer']['Team']} with {stats['LowestScorer']['Goals']} goals\")\n",
    "    except KeyError:\n",
    "        print(f\"Season '{user_input}' not found in the dataset. Please try again.\")\n",
    "        print(f\"Here are the available seasons: {', '.join(epl_seasons)}\")"
   ]
  },
  {
   "cell_type": "code",
   "execution_count": 9,
   "id": "1fe5d1e1-48e5-4836-be70-a91c6466407d",
   "metadata": {
    "tags": []
   },
   "outputs": [
    {
     "name": "stdin",
     "output_type": "stream",
     "text": [
      "Enter a team name to get performance statistics, total goals scored, and average goals per match (or type 'exit' to quit):  Man City\n"
     ]
    },
    {
     "name": "stdout",
     "output_type": "stream",
     "text": [
      "Team selected: Man City \n",
      "Wins: 452 \n",
      "Draws: 197 \n",
      "Losses: 264 \n",
      "Points Accumulated: 1553 \n",
      "Total Goals Scored: 1575 \n",
      "Average Goals per Match: 1.73\n"
     ]
    },
    {
     "name": "stdin",
     "output_type": "stream",
     "text": [
      "Enter a team name to get performance statistics, total goals scored, and average goals per match (or type 'exit' to quit):  a\n"
     ]
    },
    {
     "name": "stdout",
     "output_type": "stream",
     "text": [
      "Team 'a' not found in the dataset. Please try again.\n",
      "Here are the available teams: Arsenal, Aston Villa, Barnsley, Birmingham, Blackburn, Blackpool, Bolton, Bournemouth, Bradford, Brentford, Brighton, Burnley, Cardiff, Charlton, Chelsea, Coventry, Crystal Palace, Derby, Everton, Fulham, Huddersfield, Hull, Ipswich, Leeds, Leicester, Liverpool, Man City, Man United, Middlesbrough, Newcastle, Norwich, Nott'm Forest, Oldham, Portsmouth, QPR, Reading, Sheffield United, Sheffield Weds, Southampton, Stoke, Sunderland, Swansea, Swindon, Tottenham, Watford, West Brom, West Ham, Wigan, Wimbledon, Wolves\n"
     ]
    },
    {
     "name": "stdin",
     "output_type": "stream",
     "text": [
      "Enter a team name to get performance statistics, total goals scored, and average goals per match (or type 'exit' to quit):  exit\n"
     ]
    }
   ],
   "source": [
    "# create dictionaries to store team statistics\n",
    "team_stats = {}\n",
    "team_names = epl['HomeTeam'].unique()\n",
    "\n",
    "# create dictionaries to store team statistics, total goals scored, and average goals per match\n",
    "team_stats = {}\n",
    "team_goals = {}\n",
    "team_avg_goals_per_match = {}\n",
    "\n",
    "# function to calculate team statistics\n",
    "def calculate_team_stats(data, team_name):\n",
    "    home_matches = data[data['HomeTeam'] == team_name]\n",
    "    away_matches = data[data['AwayTeam'] == team_name]\n",
    "    wins = len(home_matches[home_matches['FTR'] == 'H']) + len(away_matches[away_matches['FTR'] == 'A'])\n",
    "    draws = len(home_matches[home_matches['FTR'] == 'D']) + len(away_matches[away_matches['FTR'] == 'D'])\n",
    "    losses = len(home_matches[home_matches['FTR'] == 'A']) + len(away_matches[away_matches['FTR'] == 'H'])\n",
    "    points = (wins * 3) + draws\n",
    "    return wins, draws, losses, points\n",
    "\n",
    "# function to calculate total goals scored by a team\n",
    "def calculate_team_goals(data, team_name):\n",
    "    home_goals = data[data['HomeTeam'] == team_name]['FTHG'].sum()\n",
    "    away_goals = data[data['AwayTeam'] == team_name]['FTAG'].sum()\n",
    "    return home_goals + away_goals\n",
    "\n",
    "# function to calculate average goals scored per match\n",
    "def calculate_avg_goals_per_match(data, team_name):\n",
    "    home_matches = data[data['HomeTeam'] == team_name]\n",
    "    away_matches = data[data['AwayTeam'] == team_name]\n",
    "    total_goals = home_matches['FTHG'].sum() + away_matches['FTAG'].sum()\n",
    "    total_matches = len(home_matches) + len(away_matches)\n",
    "    return total_goals / total_matches if total_matches > 0 else 0\n",
    "\n",
    "# populate the team_stats, team_goals, and team_avg_goals_per_match dictionaries\n",
    "for team in team_names:\n",
    "    wins, draws, losses, points = calculate_team_stats(epl, team)\n",
    "    team_stats[team] = {'Wins': wins, 'Draws': draws, 'Losses': losses, 'Points': points}\n",
    "    team_goals[team] = calculate_team_goals(epl, team)\n",
    "    team_avg_goals_per_match[team] = calculate_avg_goals_per_match(epl, team)\n",
    "\n",
    "# ask the user for a team name and display team statistics, total goals scored, and average goals per match\n",
    "while True:\n",
    "    user_input = input(\"Enter a team name to get performance statistics, total goals scored, and average goals per match (or type 'exit' to quit): \")\n",
    "    user_input = user_input.lower()\n",
    "    \n",
    "    if user_input.lower() == 'exit':\n",
    "        break\n",
    "    \n",
    "    try:\n",
    "        user_input_title = user_input.title()\n",
    "        stats = team_stats[user_input_title]\n",
    "        goals = team_goals[user_input_title]\n",
    "        avg_goals = team_avg_goals_per_match[user_input_title]\n",
    "        print(f\"Team selected: {user_input_title} \\nWins: {stats['Wins']} \\nDraws: {stats['Draws']} \\nLosses: {stats['Losses']} \\nPoints Accumulated: {stats['Points']} \\nTotal Goals Scored: {goals} \\nAverage Goals per Match: {avg_goals:.2f}\")\n",
    "    except KeyError:\n",
    "        print(f\"Team '{user_input}' not found in the dataset. Please try again.\")\n",
    "        print(f\"Here are the available teams: {', '.join(epl_teams)}\")\n"
   ]
  },
  {
   "cell_type": "code",
   "execution_count": null,
   "id": "859ea68b-2479-436f-bd07-53db115f6672",
   "metadata": {
    "tags": []
   },
   "outputs": [
    {
     "name": "stdin",
     "output_type": "stream",
     "text": [
      "Enter the first team name:  Arsenal\n",
      "Enter the second team name:  Tottenham\n"
     ]
    },
    {
     "name": "stdout",
     "output_type": "stream",
     "text": [
      "Head-to-Head Statistics between Arsenal and Tottenham:\n",
      "Arsenal Wins: 621\n",
      "Tottenham Wins: 494\n",
      "Draws: 541\n",
      "Arsenal Losses: 242\n",
      "Tottenham Losses: 375\n"
     ]
    },
    {
     "name": "stdin",
     "output_type": "stream",
     "text": [
      "Do you want to compare more teams? (yes/no):  yes\n",
      "Enter the first team name:  a\n",
      "Enter the second team name:  b\n"
     ]
    },
    {
     "name": "stdout",
     "output_type": "stream",
     "text": [
      "Invalid team names. Please enter available team names.\n",
      "Here are the available teams: Arsenal, Aston Villa, Barnsley, Birmingham, Blackburn, Blackpool, Bolton, Bournemouth, Bradford, Brentford, Brighton, Burnley, Cardiff, Charlton, Chelsea, Coventry, Crystal Palace, Derby, Everton, Fulham, Huddersfield, Hull, Ipswich, Leeds, Leicester, Liverpool, Man City, Man United, Middlesbrough, Newcastle, Norwich, Nott'm Forest, Oldham, Portsmouth, QPR, Reading, Sheffield United, Sheffield Weds, Southampton, Stoke, Sunderland, Swansea, Swindon, Tottenham, Watford, West Brom, West Ham, Wigan, Wimbledon, Wolves\n"
     ]
    }
   ],
   "source": [
    "# function to calculate the number of wins, draws, and losses between two teams\n",
    "def calculate_head_to_head_stats(data, team1, team2):\n",
    "    # filter matches where either team1 or team2 is the home team\n",
    "    home_matches = data[(data['HomeTeam'] == team1) | (data['HomeTeam'] == team2)]\n",
    "    \n",
    "    # filter matches where either team1 or team2 is the away team\n",
    "    away_matches = data[(data['AwayTeam'] == team1) | (data['AwayTeam'] == team2)]\n",
    "    \n",
    "    # combine both sets of matches\n",
    "    matches = pd.concat([home_matches, away_matches])\n",
    "    \n",
    "    # calculate the number of wins, draws, and losses for each team\n",
    "    team1_wins = len(matches[(matches['HomeTeam'] == team1) & (matches['FTR'] == 'H')]) + len(matches[(matches['AwayTeam'] == team1) & (matches['FTR'] == 'A')])\n",
    "    team2_wins = len(matches[(matches['HomeTeam'] == team2) & (matches['FTR'] == 'H')]) + len(matches[(matches['AwayTeam'] == team2) & (matches['FTR'] == 'A')])\n",
    "    draws = len(matches[matches['FTR'] == 'D'])\n",
    "    \n",
    "    # calculate the number of losses\n",
    "    team1_losses = len(matches[(matches['HomeTeam'] == team1) & (matches['FTR'] == 'A')]) + len(matches[(matches['AwayTeam'] == team1) & (matches['FTR'] == 'H')])\n",
    "    team2_losses = len(matches[(matches['HomeTeam'] == team2) & (matches['FTR'] == 'A')]) + len(matches[(matches['AwayTeam'] == team2) & (matches['FTR'] == 'H')])\n",
    "    \n",
    "    return {\n",
    "        f'{team1} Wins': team1_wins,\n",
    "        f'{team2} Wins': team2_wins,\n",
    "        'Draws': draws,\n",
    "        f'{team1} Losses': team1_losses,\n",
    "        f'{team2} Losses': team2_losses\n",
    "    }\n",
    "\n",
    "while True:\n",
    "    # ask the user for team names\n",
    "    team1 = input(\"Enter the first team name: \")\n",
    "    team2 = input(\"Enter the second team name: \")\n",
    "\n",
    "    # convert team names to title case (e.g., 'manchester united' to 'Manchester United')\n",
    "    team1 = team1.title()\n",
    "    team2 = team2.title()\n",
    "\n",
    "    # check if both team names are valid\n",
    "    valid_teams = set(epl['HomeTeam'].unique()) | set(epl['AwayTeam'].unique())\n",
    "    if team1 not in valid_teams or team2 not in valid_teams:\n",
    "        print(\"Invalid team names. Please enter available team names.\")\n",
    "        print(f\"Here are the available teams: {', '.join(epl_teams)}\")\n",
    "        continue\n",
    "\n",
    "    # calculate head-to-head statistics\n",
    "    head_to_head_stats = calculate_head_to_head_stats(epl, team1, team2)\n",
    "    print(f\"Head-to-Head Statistics between {team1} and {team2}:\")\n",
    "    for key, value in head_to_head_stats.items():\n",
    "        print(f\"{key}: {value}\")\n",
    "\n",
    "    # ask the user if they want to continue or exit\n",
    "    another_query = input(\"Do you want to compare more teams? (yes/no): \")\n",
    "    if another_query.lower() != 'yes':\n",
    "        break"
   ]
  },
  {
   "cell_type": "code",
   "execution_count": 11,
   "id": "27138285-8ce4-4a52-9678-9e1030725dbc",
   "metadata": {},
   "outputs": [
    {
     "data": {
      "image/png": "[encoded data removed]",
      "text/plain": [
       "<Figure size 1200x600 with 1 Axes>"
      ]
     },
     "metadata": {},
     "output_type": "display_data"
    }
   ],
   "source": [
    "# group the data by team and calculate total wins\n",
    "team_wins = epl.groupby('HomeTeam')['FTR'].apply(lambda x: (x == 'H').sum()).reset_index()\n",
    "team_wins.columns = ['Team', 'Wins']\n",
    "\n",
    "# sort teams by the number of wins in descending order\n",
    "team_wins = team_wins.sort_values(by='Wins', ascending=False)\n",
    "\n",
    "# plot the bar chart\n",
    "plt.figure(figsize=(12, 6))\n",
    "plt.bar(team_wins['Team'], team_wins['Wins'], color='lightblue')\n",
    "plt.xlabel('Team')\n",
    "plt.ylabel('Total Wins')\n",
    "plt.title('Total Wins by EPL Team')\n",
    "plt.xticks(rotation=90)\n",
    "plt.tight_layout()\n",
    "\n",
    "# show the plot\n",
    "plt.show()"
   ]
  },
  {
   "cell_type": "code",
   "execution_count": 36,
   "id": "1d92f641-984a-4105-a9c3-92c769625fcf",
   "metadata": {
    "tags": []
   },
   "outputs": [
    {
     "data": {
      "image/png": "[encoded data removed]",
      "text/plain": [
       "<Figure size 1000x600 with 1 Axes>"
      ]
     },
     "metadata": {},
     "output_type": "display_data"
    }
   ],
   "source": [
    "# combine home and away goals to get total goals per match\n",
    "epl['TotalGoals'] = epl['FTHG'] + epl['FTAG']\n",
    "\n",
    "# create a histogram\n",
    "plt.figure(figsize=(10, 6))\n",
    "plt.hist(epl['TotalGoals'], bins=range(0, 12), edgecolor='k', alpha=0.7)\n",
    "plt.title('Goal Distribution in English Premier League Matches')\n",
    "plt.xlabel('Total Goals per Match')\n",
    "plt.ylabel('Number of Matches')\n",
    "plt.xticks(range(0, 12))\n",
    "plt.grid(axis='y')\n",
    "\n",
    "# show the plot\n",
    "plt.tight_layout()\n",
    "plt.show()"
   ]
  },
  {
   "cell_type": "code",
   "execution_count": null,
   "id": "f16f7c2b-f2f5-4b89-bef8-0c7e02b3c00f",
   "metadata": {},
   "outputs": [],
   "source": [
    "# thank you for viewing my small python project :)!"
   ]
  }
 ],
 "metadata": {
  "kernelspec": {
   "display_name": "Python 3 (ipykernel)",
   "language": "python",
   "name": "python3"
  },
  "language_info": {
   "codemirror_mode": {
    "name": "ipython",
    "version": 3
   },
   "file_extension": ".py",
   "mimetype": "text/x-python",
   "name": "python",
   "nbconvert_exporter": "python",
   "pygments_lexer": "ipython3",
   "version": "3.11.4"
  }
 },
 "nbformat": 4,
 "nbformat_minor": 5
}
